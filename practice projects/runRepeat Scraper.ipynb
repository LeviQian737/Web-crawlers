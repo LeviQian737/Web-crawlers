{
 "cells": [
  {
   "cell_type": "code",
   "execution_count": 21,
   "metadata": {},
   "outputs": [],
   "source": [
    "from bs4 import BeautifulSoup\n",
    "import re\n",
    "import urllib.request,urllib.error\n",
    "import xlwt\n",
    "import sqlite3"
   ]
  },
  {
   "cell_type": "code",
   "execution_count": 185,
   "metadata": {},
   "outputs": [],
   "source": [
    "main()"
   ]
  },
  {
   "cell_type": "code",
   "execution_count": 187,
   "metadata": {},
   "outputs": [],
   "source": [
    "runRepeatURL = \"https://runrepeat.com/catalog/running-shoes?page=\"\n",
    "    #爬取网页\n",
    "nameRule = re.compile(r'<li class=\"row product_list\" data-v-4dd1ef91=\"\" data-v-67e6a050=\"\"><div data-v-67e6a050=\"\"></div> <span data-v-67e6a050=\"\"></span> <div class=\"product-name hidden-md hidden-lg col-md-12 col-lg-12\" data-v-67e6a050=\"\"><a data-v-67e6a050=\"\" href=\".*?\".*? data-v-67e6a050=\"\">(.*?)</span></a>.*?')\n",
    "scoreRule = re.compile(r'<li class=\"row product_list\" data-v-4dd1ef91=\"\" data-v-67e6a050=\"\"><div data-v-67e6a050=\"\"></div> <span data-v-67e6a050=\"\"></span> <div class=\"product-name hidden-md hidden-lg col-md-12 col-lg-12\" data-v-67e6a050=\"\"><a data-v-67e6a050=\"\" href=\".*?\" target=\"_self\"><span data-v-67e6a050=\"\">.*?</span></a></div> <div class=\"product-score hidden-md hidden-lg col-md-12 col-lg-12\" data-v-67e6a050=\"\"><div class=\"overall_score score_green\" data-custom-class=\"rr_popover\" data-placement=\"top\" data-popover-content=\"#corescore-explainer-content\" data-rrexplainerng=\"\" data-rrpopover=\"\" data-trigger=\"manuel hover\" data-v-67e6a050=\"\" id=\".*?\">\\n        (.*?)\\n      </div> <!-- -->.*?',re.S)\n",
    "finalData1 = getData(runRepeatURL,nameRule, scoreRule)\n",
    "    #解析数据\n",
    "    #保存数据"
   ]
  },
  {
   "cell_type": "code",
   "execution_count": 170,
   "metadata": {},
   "outputs": [],
   "source": [
    "def askURL(url):\n",
    "    #模拟浏览器头部信息向豆瓣发送信息\n",
    "    head = {\"User-Agent\":\"Mozilla/5.0 (Macintosh; Intel Mac OS X 10_15_6) AppleWebKit/537.36 (KHTML, like Gecko) Chrome/86.0.4240.111 Safari/537.36\"}\n",
    "    #用户代理，告诉服务器，我们是什么类型的浏览器\n",
    "    request = urllib.request.Request(url, headers = head)\n",
    "    html = \"\"\n",
    "    try:\n",
    "        response = urllib.request.urlopen(request)\n",
    "        html = response.read().decode(\"utf-8\")\n",
    "\n",
    "    except urllib.error.URLError as e:\n",
    "        if hasattr(e,\"code\"):\n",
    "            print(e.code)\n",
    "        if hasattr(e,\"reason\"):\n",
    "            print(e.reason)\n",
    "        \n",
    "    return html"
   ]
  },
  {
   "cell_type": "code",
   "execution_count": 184,
   "metadata": {},
   "outputs": [],
   "source": [
    "def getData(baseURL, findName, findScore):\n",
    "    datalist = []\n",
    "\n",
    "    for i in range(80,81):\n",
    "        url = baseURL + str(i)\n",
    "        html = askURL(url) #保存获取到的网页源码\n",
    "        soup = BeautifulSoup(html, \"html.parser\")\n",
    "        for item in soup.find_all(\"li\",class_ = \"row product_list\"):#查找符合要求的字符串，形成列表\n",
    "            data = []\n",
    "            item = str(item)\n",
    "            Name = re.findall(findName, item)\n",
    "            Score = re.findall(findScore, item)\n",
    "            datalist.append(Name)\n",
    "            datalist.append(Score)\n",
    "    return datalist"
   ]
  },
  {
   "cell_type": "code",
   "execution_count": 31,
   "metadata": {},
   "outputs": [],
   "source": [
    "soup = BeautifulSoup(html, \"html.parser\")"
   ]
  },
  {
   "cell_type": "code",
   "execution_count": 41,
   "metadata": {},
   "outputs": [],
   "source": [
    "itemList = []\n",
    "for item in soup.find_all(\"li\",class_ = \"row product_list\"):#查找符合要求的字符串，形成列表\n",
    "    itemList.append(item)"
   ]
  },
  {
   "cell_type": "code",
   "execution_count": 190,
   "metadata": {},
   "outputs": [],
   "source": [
    "workbook = xlwt.Workbook(encoding = \"utf-8\")\n",
    "worksheet = workbook.add_sheet('sheet1')\n",
    "for i in range(len(finalData1)):\n",
    "    worksheet.write(int(i/2),i%2,finalData1[i])\n",
    "workbook.save('data1.xls')"
   ]
  },
  {
   "cell_type": "code",
   "execution_count": 188,
   "metadata": {},
   "outputs": [
    {
     "data": {
      "text/plain": [
       "34"
      ]
     },
     "execution_count": 188,
     "metadata": {},
     "output_type": "execute_result"
    }
   ],
   "source": [
    "len(finalData1)"
   ]
  },
  {
   "cell_type": "code",
   "execution_count": null,
   "metadata": {},
   "outputs": [],
   "source": []
  }
 ],
 "metadata": {
  "kernelspec": {
   "display_name": "Python 3",
   "language": "python",
   "name": "python3"
  },
  "language_info": {
   "codemirror_mode": {
    "name": "ipython",
    "version": 3
   },
   "file_extension": ".py",
   "mimetype": "text/x-python",
   "name": "python",
   "nbconvert_exporter": "python",
   "pygments_lexer": "ipython3",
   "version": "3.7.4"
  }
 },
 "nbformat": 4,
 "nbformat_minor": 2
}
